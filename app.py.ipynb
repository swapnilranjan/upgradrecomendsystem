{
  "nbformat": 4,
  "nbformat_minor": 0,
  "metadata": {
    "colab": {
      "name": "Untitled0.ipynb",
      "provenance": []
    },
    "kernelspec": {
      "name": "python3",
      "display_name": "Python 3"
    },
    "language_info": {
      "name": "python"
    }
  },
  "cells": [
    {
      "cell_type": "code",
      "execution_count": null,
      "metadata": {
        "id": "eu2BrePR8LC_"
      },
      "outputs": [],
      "source": [
        "from email import header\n",
        "from operator import index\n",
        "from flask import Flask, request, render_template, jsonify\n",
        "from model import SentimentRecommenderModel\n",
        "\n",
        "\n",
        "app = Flask(__name__)\n",
        "\n",
        "sentiment_model = SentimentRecommenderModel()\n",
        "\n",
        "\n",
        "@app.route('/')\n",
        "def home():\n",
        "    return render_template('index.html')\n",
        "\n",
        "\n",
        "@app.route('/predict', methods=['POST'])\n",
        "def prediction():\n",
        "    \n",
        "    user = request.form['userName']\n",
        "    user = user.lower()\n",
        "    items = sentiment_model.getSentimentRecommendations(user)\n",
        "\n",
        "    if(not(items is None)):\n",
        "        print(f\"retrieving items....{len(items)}\")\n",
        "        print(items)\n",
        "        \n",
        "        return render_template(\"index.html\", column_names=items.columns.values, row_data=list(items.values.tolist()), zip=zip)\n",
        "    else:\n",
        "        return render_template(\"index.html\", message=\"User Name doesn't exists, No product recommendations at this point of time!\")\n",
        "\n",
        "\n",
        "@app.route('/predictSentiment', methods=['POST'])\n",
        "def predict_sentiment():\n",
        "    \n",
        "    review_text = request.form[\"reviewText\"]\n",
        "    print(review_text)\n",
        "    pred_sentiment = sentiment_model.classify_sentiment(review_text)\n",
        "    print(pred_sentiment)\n",
        "    return render_template(\"index.html\", sentiment=pred_sentiment)\n",
        "\n",
        "\n",
        "if __name__ == '__main__':\n",
        "    app.run()"
      ]
    }
  ]
}